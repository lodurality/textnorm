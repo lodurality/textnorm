{
 "cells": [
  {
   "cell_type": "code",
   "execution_count": 1,
   "metadata": {
    "collapsed": true
   },
   "outputs": [],
   "source": [
    "import pandas as pd\n",
    "import csv\n",
    "import numpy as np\n",
    "\n",
    "from __future__ import unicode_literals, print_function, division\n",
    "from io import open\n",
    "import unicodedata\n",
    "import string\n",
    "import re\n",
    "import random\n",
    "\n",
    "import torch\n",
    "import torch.nn as nn\n",
    "from torch.autograd import Variable\n",
    "from torch import optim\n",
    "import torch.nn.functional as F\n",
    "\n",
    "seed = 42\n",
    "torch.manual_seed(seed)\n",
    "\n",
    "torch.cuda.manual_seed(seed)\n",
    "torch.cuda.manual_seed_all(seed)\n",
    "\n",
    "np.random.seed(seed)\n",
    "random.seed(seed)\n",
    "\n",
    "%matplotlib inline\n",
    "\n",
    "use_cuda = torch.cuda.is_available()"
   ]
  },
  {
   "cell_type": "code",
   "execution_count": 2,
   "metadata": {
    "collapsed": true
   },
   "outputs": [],
   "source": [
    "SOS_token = 0\n",
    "EOS_token = 1\n",
    "\n",
    "\n",
    "class Lang:\n",
    "    def __init__(self, name):\n",
    "        self.name = name\n",
    "        self.word2index = {}\n",
    "        self.word2count = {}\n",
    "        self.index2word = {0: \"SOS\", 1: \"EOS\"}\n",
    "        self.n_words = 2  # Count SOS and EOS\n",
    "\n",
    "    def addSentence(self, sentence):\n",
    "        for word in sentence.split(' '):\n",
    "            self.addWord(word)\n",
    "                \n",
    "    def addWord(self, word):\n",
    "        if word not in self.word2index:\n",
    "            self.word2index[word] = self.n_words\n",
    "            self.word2count[word] = 1\n",
    "            self.index2word[self.n_words] = word\n",
    "            self.n_words += 1\n",
    "        else:\n",
    "            self.word2count[word] += 1\n",
    "            \n",
    "\n",
    "def filterPair(p):\n",
    "    return len(p[0]) < MAX_LENGTH\n",
    "\n",
    "def filterPairs(pairs):\n",
    "    return [pair for pair in pairs if filterPair(pair)]\n",
    "\n",
    "def getChars(item):\n",
    "    return [element for element in item]"
   ]
  },
  {
   "cell_type": "code",
   "execution_count": 3,
   "metadata": {
    "collapsed": true
   },
   "outputs": [],
   "source": [
    "def get_data(file_range):\n",
    "    print('File range:', list(file_range))\n",
    "    data_list = []\n",
    "    for i in file_range:\n",
    "        index = str(i)\n",
    "        if len(index) == 1:\n",
    "            filename = 'output-0000{}-of-00100'.format(index)\n",
    "        elif len(index) == 2:\n",
    "            filename = 'output-000{}-of-00100'.format(index)\n",
    "        else:\n",
    "            raise ValueError('Wrong index')\n",
    "\n",
    "        cur_data = pd.read_csv('../input/ru_with_types/' + filename, sep='\\t', names=['class', 'before', 'after'],\n",
    "                           quoting=csv.QUOTE_NONE, encoding='utf-8', dtype=str)\n",
    "\n",
    "        if (cur_data.shape[0] > 1074563-10) and (cur_data.shape[0] < 1074563+10):\n",
    "            print(filename)\n",
    "        data_list.append(cur_data)\n",
    "        print('Data shape for item {} is {}'.format(i,cur_data.shape))\n",
    "\n",
    "\n",
    "    data_orig = pd.concat(data_list, axis=0)\n",
    "    print('Overall data shape is {}'.format(data_orig.shape))\n",
    "    \n",
    "    return data_orig"
   ]
  },
  {
   "cell_type": "code",
   "execution_count": 5,
   "metadata": {},
   "outputs": [
    {
     "name": "stdout",
     "output_type": "stream",
     "text": [
      "File range: [0, 1]\n",
      "Data shape for item 0 is (2973646, 3)\n",
      "Data shape for item 1 is (2981069, 3)\n",
      "Overall data shape is (5954715, 3)\n",
      "File range: [5, 6, 7]\n",
      "Data shape for item 5 is (2975471, 3)\n",
      "Data shape for item 6 is (2980056, 3)\n",
      "Data shape for item 7 is (2975255, 3)\n",
      "Overall data shape is (8930782, 3)\n"
     ]
    }
   ],
   "source": [
    "data_dev = get_data(range(0,2))\n",
    "data_learn = get_data(range(5,8))"
   ]
  },
  {
   "cell_type": "code",
   "execution_count": 6,
   "metadata": {},
   "outputs": [
    {
     "data": {
      "text/plain": [
       "(10574516, 5)"
      ]
     },
     "execution_count": 6,
     "metadata": {},
     "output_type": "execute_result"
    }
   ],
   "source": [
    "data_train = pd.read_csv('../input/ru_train.csv', dtype = str)\n",
    "#data_test = pd.read_csv('../input/ru_test.csv', dtype = str)\n",
    "data_train.shape"
   ]
  },
  {
   "cell_type": "code",
   "execution_count": 7,
   "metadata": {
    "collapsed": true
   },
   "outputs": [],
   "source": [
    "MAX_LENGTH = 100"
   ]
  },
  {
   "cell_type": "code",
   "execution_count": 8,
   "metadata": {
    "collapsed": true
   },
   "outputs": [],
   "source": [
    "def make_sample(data_learn, self_frac = 0.33, sil_frac = 1):\n",
    "\n",
    "    data_nn = data_learn.copy()\n",
    "    to_concat = []\n",
    "    to_concat.append(data_nn[(data_nn.after != '<self>') & (data_nn.after != 'sil')])\n",
    "    to_concat.append(data_nn[data_nn.after == '<self>'].sample(frac = self_frac))\n",
    "    to_concat.append(data_nn[data_nn.after == 'sil'].sample(frac = sil_frac))\n",
    "\n",
    "    data_nn = pd.concat(to_concat, axis=0)\n",
    "    return data_nn"
   ]
  },
  {
   "cell_type": "code",
   "execution_count": 9,
   "metadata": {
    "collapsed": true
   },
   "outputs": [],
   "source": [
    "#data_nn = make_sample(data_learn)\n",
    "#data_dev = make_sample(data_dev, self_frac=1.0)"
   ]
  },
  {
   "cell_type": "code",
   "execution_count": 10,
   "metadata": {
    "collapsed": true
   },
   "outputs": [],
   "source": [
    "#data_nn.head()"
   ]
  },
  {
   "cell_type": "code",
   "execution_count": 11,
   "metadata": {
    "collapsed": true
   },
   "outputs": [],
   "source": [
    "#data_orig = pd.concat([data_nn, data_dev], axis=0)"
   ]
  },
  {
   "cell_type": "code",
   "execution_count": 12,
   "metadata": {
    "collapsed": true
   },
   "outputs": [],
   "source": [
    "def get_pairs(data_orig, filter_length = MAX_LENGTH):\n",
    "\n",
    "    big_str = list(data_orig.before.astype(str).values)\n",
    "    output_list = list(data_orig.after.astype(str).values)\n",
    "    types_list = list(data_orig['class'].values)\n",
    "    \n",
    "    stride = 3\n",
    "    input_list = []\n",
    "    pairs = []\n",
    "    for i in range(len(big_str)):\n",
    "        if big_str[i] != '<eos>':\n",
    "            #print(big_str[i])\n",
    "            cur_item = ['<norm>'] + getChars(big_str[i]) + ['</norm>']\n",
    "            cur_type = types_list[i]\n",
    "            #cur_item = ['<{}>'.format(cur_type)] + cur_item + ['</{}>'.format(cur_type)]\n",
    "            #print(big_str[i-stride:i])\n",
    "            prefix = getChars(' '.join(big_str[i-stride:i]))\n",
    "            #print(prefix)\n",
    "            prefix = ' '.join(prefix).split('< e o s >')[-1].split(' ')\n",
    "            #print(prefix)\n",
    "            suffix = getChars(' '.join(big_str[i+1:i+stride+1]))\n",
    "            suffix = ' '.join(suffix).split('< e o s >')[0].split(' ')\n",
    "            cur_item = prefix \\\n",
    "            + cur_item + \\\n",
    "            suffix\n",
    "\n",
    "            cur_item = ' '.join(cur_item)\n",
    "            cur_item = cur_item.replace('  ', ' ')\n",
    "            cur_item = cur_item.replace('  ', ' ')\n",
    "            if cur_item[0] == ' ':\n",
    "                cur_item = cur_item[1:]\n",
    "            pairs += [(cur_item, output_list[i], cur_type)]\n",
    "\n",
    "    #pairs = list(zip(input_list, output_list))\n",
    "    print('Len of pairs:', len(pairs))\n",
    "    \n",
    "    if filter_length:\n",
    "        pairs = filterPairs(pairs)\n",
    "        print('Len of pairs after filtering:', len(pairs))\n",
    "    return pairs"
   ]
  },
  {
   "cell_type": "code",
   "execution_count": 13,
   "metadata": {},
   "outputs": [
    {
     "data": {
      "text/plain": [
       "[0, 1]"
      ]
     },
     "execution_count": 13,
     "metadata": {},
     "output_type": "execute_result"
    }
   ],
   "source": [
    "list(range(3))[-4:2]"
   ]
  },
  {
   "cell_type": "code",
   "execution_count": 14,
   "metadata": {},
   "outputs": [
    {
     "name": "stdout",
     "output_type": "stream",
     "text": [
      "Len of pairs: 8319218\n",
      "Len of pairs after filtering: 6885865\n",
      "Len of pairs: 5547039\n",
      "Len of pairs after filtering: 4592529\n"
     ]
    }
   ],
   "source": [
    "train_pairs = get_pairs(data_learn)\n",
    "dev_pairs = get_pairs(data_dev)"
   ]
  },
  {
   "cell_type": "code",
   "execution_count": 15,
   "metadata": {},
   "outputs": [
    {
     "data": {
      "text/plain": [
       "[('<norm> Д р у г а я </norm> в е р с и я б е р е т н а ч а л о',\n",
       "  '<self>',\n",
       "  'PLAIN'),\n",
       " ('<norm> в е р с и я </norm> б е р е т н а ч а л о о т', '<self>', 'PLAIN'),\n",
       " ('<norm> б е р е т </norm> н а ч а л о о т с л о в а', '<self>', 'PLAIN'),\n",
       " ('Д р у г а я в е р с и я б е р е т <norm> н а ч а л о </norm> о т с л о в а \"',\n",
       "  '<self>',\n",
       "  'PLAIN'),\n",
       " ('в е р с и я б е р е т н а ч а л о <norm> о т </norm> с л о в а \" н е п е я',\n",
       "  '<self>',\n",
       "  'PLAIN'),\n",
       " ('б е р е т н а ч а л о о т <norm> с л о в а </norm> \" н е п е я \"',\n",
       "  '<self>',\n",
       "  'PLAIN'),\n",
       " ('н а ч а л о о т с л о в а <norm> \" </norm> н е п е я \" -', 'sil', 'PUNCT'),\n",
       " ('о т с л о в а \" <norm> н е п е я </norm> \" - ч е л о в е к а',\n",
       "  '<self>',\n",
       "  'PLAIN'),\n",
       " ('с л о в а \" н е п е я <norm> \" </norm> - ч е л о в е к а в е д у щ е г о',\n",
       "  'sil',\n",
       "  'PUNCT'),\n",
       " ('\" н е п е я \" <norm> - </norm> ч е л о в е к а в е д у щ е г о т р е з в ы й',\n",
       "  'sil',\n",
       "  'VERBATIM')]"
      ]
     },
     "execution_count": 15,
     "metadata": {},
     "output_type": "execute_result"
    }
   ],
   "source": [
    "train_pairs[:10]"
   ]
  },
  {
   "cell_type": "code",
   "execution_count": 16,
   "metadata": {},
   "outputs": [
    {
     "data": {
      "text/plain": [
       "[('<norm> П о </norm> с о с т о я н и ю н а 1 8 6 2 г о д', '<self>', 'PLAIN'),\n",
       " ('<norm> с о с т о я н и ю </norm> н а 1 8 6 2 г о д .', '<self>', 'PLAIN'),\n",
       " ('<norm> н а </norm> 1 8 6 2 г о д . ', '<self>', 'PLAIN'),\n",
       " ('П о с о с т о я н и ю н а <norm> 1 8 6 2 г о д </norm> . ',\n",
       "  'тысяча восемьсот шестьдесят второй год',\n",
       "  'DATE'),\n",
       " ('с о с т о я н и ю н а 1 8 6 2 г о д <norm> . </norm> ', 'sil', 'PUNCT'),\n",
       " ('<norm> О с н а щ а л и с ь </norm> л а т н ы м и р у к а в и ц а м и и',\n",
       "  '<self>',\n",
       "  'PLAIN'),\n",
       " ('О с н а щ а л и с ь <norm> л а т н ы м и </norm> р у к а в и ц а м и и с а б а т о н а м и',\n",
       "  '<self>',\n",
       "  'PLAIN'),\n",
       " ('О с н а щ а л и с ь л а т н ы м и <norm> р у к а в и ц а м и </norm> и с а б а т о н а м и с',\n",
       "  '<self>',\n",
       "  'PLAIN'),\n",
       " ('О с н а щ а л и с ь л а т н ы м и р у к а в и ц а м и <norm> и </norm> с а б а т о н а м и с н е',\n",
       "  '<self>',\n",
       "  'PLAIN'),\n",
       " ('л а т н ы м и р у к а в и ц а м и и <norm> с а б а т о н а м и </norm> с н е д л и н н ы м и',\n",
       "  '<self>',\n",
       "  'PLAIN')]"
      ]
     },
     "execution_count": 16,
     "metadata": {},
     "output_type": "execute_result"
    }
   ],
   "source": [
    "dev_pairs[:10]"
   ]
  },
  {
   "cell_type": "code",
   "execution_count": 17,
   "metadata": {
    "collapsed": true
   },
   "outputs": [],
   "source": [
    "input_lang, output_lang = Lang('nonnorm'), Lang('norm')\n",
    "\n",
    "for pair in train_pairs + dev_pairs:\n",
    "    input_lang.addSentence(pair[0])\n",
    "    output_lang.addSentence(pair[1])"
   ]
  },
  {
   "cell_type": "code",
   "execution_count": 18,
   "metadata": {
    "collapsed": true
   },
   "outputs": [],
   "source": [
    "#tst[tst.before != tst.after]"
   ]
  },
  {
   "cell_type": "code",
   "execution_count": null,
   "metadata": {
    "collapsed": true
   },
   "outputs": [],
   "source": []
  },
  {
   "cell_type": "code",
   "execution_count": 19,
   "metadata": {
    "collapsed": true
   },
   "outputs": [],
   "source": [
    "class EncoderRNN(nn.Module):\n",
    "    def __init__(self, input_size, hidden_size, n_layers=1):\n",
    "        super(EncoderRNN, self).__init__()\n",
    "        self.n_layers = n_layers\n",
    "        self.hidden_size = hidden_size\n",
    "\n",
    "        self.embedding = nn.Embedding(input_size, hidden_size)\n",
    "        self.gru = nn.GRU(hidden_size, hidden_size)\n",
    "\n",
    "    def forward(self, input, hidden):\n",
    "        embedded = self.embedding(input).view(1, 1, -1)\n",
    "        output = embedded\n",
    "        for i in range(self.n_layers):\n",
    "            output, hidden = self.gru(output, hidden)\n",
    "        return output, hidden\n",
    "\n",
    "    def initHidden(self):\n",
    "        result = Variable(torch.zeros(1, 1, self.hidden_size))\n",
    "        if use_cuda:\n",
    "            return result.cuda()\n",
    "        else:\n",
    "            return result\n",
    "        \n",
    "class DecoderRNN(nn.Module):\n",
    "    def __init__(self, hidden_size, output_size, n_layers=1):\n",
    "        super(DecoderRNN, self).__init__()\n",
    "        self.n_layers = n_layers\n",
    "        self.hidden_size = hidden_size\n",
    "\n",
    "        self.embedding = nn.Embedding(output_size, hidden_size)\n",
    "        self.gru = nn.GRU(hidden_size, hidden_size)\n",
    "        self.out = nn.Linear(hidden_size, output_size)\n",
    "        self.softmax = nn.LogSoftmax()\n",
    "\n",
    "    def forward(self, input, hidden):\n",
    "        output = self.embedding(input).view(1, 1, -1)\n",
    "        for i in range(self.n_layers):\n",
    "            output = F.relu(output)\n",
    "            output, hidden = self.gru(output, hidden)\n",
    "        output = self.softmax(self.out(output[0]))\n",
    "        return output, hidden\n",
    "\n",
    "    def initHidden(self):\n",
    "        result = Variable(torch.zeros(1, 1, self.hidden_size))\n",
    "        if use_cuda:\n",
    "            return result.cuda()\n",
    "        else:\n",
    "            return result\n",
    "        \n",
    "class AttnDecoderRNN(nn.Module):\n",
    "    def __init__(self, hidden_size, output_size, n_layers=1, dropout_p=0.1, max_length=MAX_LENGTH):\n",
    "        super(AttnDecoderRNN, self).__init__()\n",
    "        self.hidden_size = hidden_size\n",
    "        self.output_size = output_size\n",
    "        self.n_layers = n_layers\n",
    "        self.dropout_p = dropout_p\n",
    "        self.max_length = max_length\n",
    "\n",
    "        self.embedding = nn.Embedding(self.output_size, self.hidden_size)\n",
    "        self.attn = nn.Linear(self.hidden_size * 2, self.max_length)\n",
    "        self.attn_combine = nn.Linear(self.hidden_size * 2, self.hidden_size)\n",
    "        self.dropout = nn.Dropout(self.dropout_p)\n",
    "        self.gru = nn.GRU(self.hidden_size, self.hidden_size)\n",
    "        self.out = nn.Linear(self.hidden_size, self.output_size)\n",
    "\n",
    "    def forward(self, input, hidden, encoder_output, encoder_outputs):\n",
    "        embedded = self.embedding(input).view(1, 1, -1)\n",
    "        embedded = self.dropout(embedded)\n",
    "\n",
    "        attn_weights = F.softmax(\n",
    "            self.attn(torch.cat((embedded[0], hidden[0]), 1)))\n",
    "        attn_applied = torch.bmm(attn_weights.unsqueeze(0),\n",
    "                                 encoder_outputs.unsqueeze(0))\n",
    "\n",
    "        output = torch.cat((embedded[0], attn_applied[0]), 1)\n",
    "        output = self.attn_combine(output).unsqueeze(0)\n",
    "\n",
    "        for i in range(self.n_layers):\n",
    "            output = F.relu(output)\n",
    "            output, hidden = self.gru(output, hidden)\n",
    "\n",
    "        output = F.log_softmax(self.out(output[0]))\n",
    "        return output, hidden, attn_weights\n",
    "\n",
    "    def initHidden(self):\n",
    "        result = Variable(torch.zeros(1, 1, self.hidden_size))\n",
    "        if use_cuda:\n",
    "            return result.cuda()\n",
    "        else:\n",
    "            return result"
   ]
  },
  {
   "cell_type": "code",
   "execution_count": null,
   "metadata": {
    "collapsed": true
   },
   "outputs": [],
   "source": []
  },
  {
   "cell_type": "code",
   "execution_count": 20,
   "metadata": {
    "collapsed": true
   },
   "outputs": [],
   "source": [
    "def indexesFromSentence(lang, sentence):\n",
    "    return [lang.word2index[word] for word in sentence.split(' ')]\n",
    "\n",
    "def variableFromSentence(lang, sentence):\n",
    "    indexes = indexesFromSentence(lang, sentence)\n",
    "    indexes.append(EOS_token)\n",
    "    result = Variable(torch.LongTensor(indexes).view(-1, 1))\n",
    "    if use_cuda:\n",
    "        return result.cuda()\n",
    "    else:\n",
    "        return result\n",
    "\n",
    "\n",
    "def variablesFromPair(pair):\n",
    "    input_variable = variableFromSentence(input_lang, pair[0])\n",
    "    target_variable = variableFromSentence(output_lang, pair[1])\n",
    "    return (input_variable, target_variable)"
   ]
  },
  {
   "cell_type": "code",
   "execution_count": 21,
   "metadata": {
    "collapsed": true
   },
   "outputs": [],
   "source": [
    "teacher_forcing_ratio = 0.5\n",
    "\n",
    "\n",
    "def train(input_variable, target_variable, encoder, decoder, encoder_optimizer, decoder_optimizer, criterion, max_length=MAX_LENGTH):\n",
    "    encoder_hidden = encoder.initHidden()\n",
    "\n",
    "    encoder_optimizer.zero_grad()\n",
    "    decoder_optimizer.zero_grad()\n",
    "\n",
    "    input_length = input_variable.size()[0]\n",
    "    target_length = target_variable.size()[0]\n",
    "    \n",
    "    encoder_outputs = Variable(torch.zeros(max_length, encoder.hidden_size))\n",
    "    encoder_outputs = encoder_outputs.cuda() if use_cuda else encoder_outputs\n",
    "   \n",
    "    loss = 0\n",
    "\n",
    "    for ei in range(input_length):\n",
    "        encoder_output, encoder_hidden = encoder(\n",
    "            input_variable[ei], encoder_hidden)\n",
    "        encoder_outputs[ei] = encoder_output[0][0]\n",
    "\n",
    "    decoder_input = Variable(torch.LongTensor([[SOS_token]]))\n",
    "    decoder_input = decoder_input.cuda() if use_cuda else decoder_input\n",
    "    \n",
    "    decoder_hidden = encoder_hidden\n",
    "\n",
    "    use_teacher_forcing = True if random.random() < teacher_forcing_ratio else False\n",
    "\n",
    "    if use_teacher_forcing:\n",
    "        # Teacher forcing: Feed the target as the next input\n",
    "        for di in range(target_length):\n",
    "            decoder_output, decoder_hidden, decoder_attention = decoder(\n",
    "                decoder_input, decoder_hidden, encoder_output, encoder_outputs)\n",
    "            loss += criterion(decoder_output, target_variable[di])\n",
    "            decoder_input = target_variable[di]  # Teacher forcing\n",
    "\n",
    "    else:\n",
    "        # Without teacher forcing: use its own predictions as the next input\n",
    "        for di in range(target_length):\n",
    "            decoder_output, decoder_hidden, decoder_attention = decoder(\n",
    "                decoder_input, decoder_hidden, encoder_output, encoder_outputs)\n",
    "            topv, topi = decoder_output.data.topk(1)\n",
    "            ni = topi[0][0]\n",
    "            \n",
    "            decoder_input = Variable(torch.LongTensor([[ni]]))\n",
    "            decoder_input = decoder_input.cuda() if use_cuda else decoder_input\n",
    "            \n",
    "            loss += criterion(decoder_output, target_variable[di])\n",
    "            if ni == EOS_token:\n",
    "                break\n",
    "\n",
    "    loss.backward()\n",
    "\n",
    "    encoder_optimizer.step()\n",
    "    decoder_optimizer.step()\n",
    "\n",
    "    return loss.data[0] / target_length"
   ]
  },
  {
   "cell_type": "code",
   "execution_count": 22,
   "metadata": {
    "collapsed": true
   },
   "outputs": [],
   "source": [
    "import matplotlib.pyplot as plt\n",
    "import matplotlib.ticker as ticker\n",
    "import numpy as np\n",
    "\n",
    "\n",
    "def showPlot(points):\n",
    "    plt.figure()\n",
    "    fig, ax = plt.subplots()\n",
    "    # this locator puts ticks at regular intervals\n",
    "    loc = ticker.MultipleLocator(base=0.2)\n",
    "    ax.yaxis.set_major_locator(loc)\n",
    "    plt.plot(points)"
   ]
  },
  {
   "cell_type": "code",
   "execution_count": 23,
   "metadata": {
    "collapsed": true
   },
   "outputs": [],
   "source": [
    "import time\n",
    "import math\n",
    "\n",
    "\n",
    "def asMinutes(s):\n",
    "    m = math.floor(s / 60)\n",
    "    s -= m * 60\n",
    "    return '%dm %ds' % (m, s)\n",
    "\n",
    "\n",
    "def timeSince(since, percent):\n",
    "    now = time.time()\n",
    "    s = now - since\n",
    "    es = s / (percent)\n",
    "    rs = es - s\n",
    "    return '%s (- %s)' % (asMinutes(s), asMinutes(rs))"
   ]
  },
  {
   "cell_type": "code",
   "execution_count": 24,
   "metadata": {
    "collapsed": true
   },
   "outputs": [],
   "source": [
    "def evaluate(encoder, decoder, sentence, max_length=MAX_LENGTH):\n",
    "    input_variable = variableFromSentence(input_lang, sentence)\n",
    "    input_length = input_variable.size()[0]\n",
    "    encoder_hidden = encoder.initHidden()\n",
    "\n",
    "    encoder_outputs = Variable(torch.zeros(max_length, encoder.hidden_size))\n",
    "    encoder_outputs = encoder_outputs.cuda() if use_cuda else encoder_outputs\n",
    "\n",
    "    for ei in range(input_length):\n",
    "        encoder_output, encoder_hidden = encoder(input_variable[ei],\n",
    "                                                 encoder_hidden)\n",
    "        encoder_outputs[ei] = encoder_outputs[ei] + encoder_output[0][0]\n",
    "\n",
    "    decoder_input = Variable(torch.LongTensor([[SOS_token]]))  # SOS\n",
    "    decoder_input = decoder_input.cuda() if use_cuda else decoder_input\n",
    "\n",
    "    decoder_hidden = encoder_hidden\n",
    "\n",
    "    decoded_words = []\n",
    "    decoder_attentions = torch.zeros(max_length, max_length)\n",
    "\n",
    "    for di in range(max_length):\n",
    "        decoder_output, decoder_hidden, decoder_attention = decoder(\n",
    "            decoder_input, decoder_hidden, encoder_output, encoder_outputs)\n",
    "        decoder_attentions[di] = decoder_attention.data\n",
    "        topv, topi = decoder_output.data.topk(1)\n",
    "        ni = topi[0][0]\n",
    "        if ni == EOS_token:\n",
    "            decoded_words.append('<EOS>')\n",
    "            break\n",
    "        else:\n",
    "            decoded_words.append(output_lang.index2word[ni])\n",
    "        \n",
    "        decoder_input = Variable(torch.LongTensor([[ni]]))\n",
    "        decoder_input = decoder_input.cuda() if use_cuda else decoder_input\n",
    "\n",
    "    return decoded_words, decoder_attentions[:di + 1]"
   ]
  },
  {
   "cell_type": "code",
   "execution_count": 25,
   "metadata": {
    "collapsed": true
   },
   "outputs": [],
   "source": [
    "def trainIters(encoder, decoder, pairs, n_iters, print_every=1000, plot_every=100, learning_rate=0.01, evaluate_each=False):\n",
    "    start = time.time()\n",
    "    plot_losses = []\n",
    "    plot_accuracies = []\n",
    "    print_loss_total = 0  # Reset every print_every\n",
    "    plot_loss_total = 0  # Reset every plot_every\n",
    "\n",
    "    encoder_optimizer = optim.SGD(encoder.parameters(), lr=learning_rate)\n",
    "    decoder_optimizer = optim.SGD(decoder.parameters(), lr=learning_rate)\n",
    "    training_pairs = [variablesFromPair(random.choice(pairs))\n",
    "                      for i in range(n_iters)]\n",
    "    criterion = nn.NLLLoss()\n",
    "\n",
    "    for iter in range(1, n_iters + 1):\n",
    "        training_pair = training_pairs[iter - 1]\n",
    "        input_variable = training_pair[0]\n",
    "        target_variable = training_pair[1]\n",
    " \n",
    "        loss = train(input_variable, target_variable, encoder,\n",
    "                     decoder, encoder_optimizer, decoder_optimizer, criterion)\n",
    "        print_loss_total += loss\n",
    "        plot_loss_total += loss\n",
    "\n",
    "        if iter % print_every == 0:\n",
    "            print_loss_avg = print_loss_total / print_every\n",
    "            print_loss_total = 0\n",
    "            print('%s (%d %d%%) %.4f' % (timeSince(start, iter / n_iters),\n",
    "                                         iter, iter / n_iters * 100, print_loss_avg))\n",
    "\n",
    "        if iter % plot_every == 0:\n",
    "            plot_loss_avg = plot_loss_total / plot_every\n",
    "            plot_losses.append(plot_loss_avg)\n",
    "            plot_loss_total = 0\n",
    "            \n",
    "        if evaluate_each and iter % evaluate_each == 0 and iter != 0:\n",
    "            preds = np.array([(item[1], ' '.join(evaluate(encoder, decoder, item[0])[0][:-1]), item[0]) for item in test_pairs])\n",
    "            results = np.array([item[0] == item[1] for item in preds])\n",
    "            print('\\t\\t eval accuracy: {:.3f}'.format(results.mean()))\n",
    "            plot_accuracies.append(results.mean())\n",
    "\n",
    "    showPlot(plot_losses)\n",
    "    showPlot(plot_accuracies)\n",
    "    \n",
    "    return plot_losses"
   ]
  },
  {
   "cell_type": "code",
   "execution_count": null,
   "metadata": {
    "collapsed": true
   },
   "outputs": [],
   "source": []
  },
  {
   "cell_type": "code",
   "execution_count": null,
   "metadata": {
    "collapsed": true
   },
   "outputs": [],
   "source": []
  },
  {
   "cell_type": "code",
   "execution_count": null,
   "metadata": {
    "collapsed": true
   },
   "outputs": [],
   "source": []
  },
  {
   "cell_type": "code",
   "execution_count": null,
   "metadata": {
    "collapsed": true
   },
   "outputs": [],
   "source": []
  },
  {
   "cell_type": "code",
   "execution_count": null,
   "metadata": {
    "collapsed": true
   },
   "outputs": [],
   "source": []
  },
  {
   "cell_type": "code",
   "execution_count": null,
   "metadata": {
    "collapsed": true
   },
   "outputs": [],
   "source": []
  },
  {
   "cell_type": "code",
   "execution_count": null,
   "metadata": {
    "collapsed": true
   },
   "outputs": [],
   "source": []
  },
  {
   "cell_type": "code",
   "execution_count": null,
   "metadata": {
    "collapsed": true
   },
   "outputs": [],
   "source": []
  },
  {
   "cell_type": "code",
   "execution_count": null,
   "metadata": {
    "collapsed": true
   },
   "outputs": [],
   "source": []
  },
  {
   "cell_type": "code",
   "execution_count": null,
   "metadata": {
    "collapsed": true
   },
   "outputs": [],
   "source": []
  },
  {
   "cell_type": "code",
   "execution_count": null,
   "metadata": {
    "collapsed": true
   },
   "outputs": [],
   "source": []
  },
  {
   "cell_type": "code",
   "execution_count": 32,
   "metadata": {},
   "outputs": [
    {
     "name": "stdout",
     "output_type": "stream",
     "text": [
      "Using CUDA\n",
      "11m 8s (- 2217m 23s) (10000 0%) 0.8614\n",
      "20m 15s (- 2005m 20s) (20000 1%) 0.5160\n",
      "29m 24s (- 1931m 35s) (30000 1%) 0.4258\n",
      "38m 35s (- 1891m 5s) (40000 2%) 0.4118\n",
      "47m 43s (- 1861m 2s) (50000 2%) 0.3910\n",
      "\t\t eval accuracy: 0.855\n",
      "60m 16s (- 1948m 57s) (60000 3%) 0.3435\n",
      "69m 17s (- 1910m 24s) (70000 3%) 0.3364\n",
      "78m 16s (- 1878m 42s) (80000 4%) 0.3062\n",
      "87m 15s (- 1851m 51s) (90000 4%) 0.2898\n",
      "96m 13s (- 1828m 11s) (100000 5%) 0.2959\n",
      "\t\t eval accuracy: 0.874\n",
      "108m 40s (- 1867m 16s) (110000 5%) 0.2741\n",
      "117m 39s (- 1843m 22s) (120000 6%) 0.2492\n",
      "126m 35s (- 1821m 5s) (130000 6%) 0.2477\n",
      "135m 32s (- 1800m 48s) (140000 7%) 0.2253\n",
      "144m 28s (- 1781m 47s) (150000 7%) 0.2168\n",
      "\t\t eval accuracy: 0.884\n",
      "156m 53s (- 1804m 13s) (160000 8%) 0.2034\n",
      "165m 47s (- 1784m 44s) (170000 8%) 0.1955\n",
      "174m 42s (- 1766m 25s) (180000 9%) 0.2022\n",
      "183m 35s (- 1748m 57s) (190000 9%) 0.1848\n",
      "192m 27s (- 1732m 5s) (200000 10%) 0.1683\n",
      "\t\t eval accuracy: 0.900\n",
      "204m 47s (- 1745m 38s) (210000 10%) 0.1751\n",
      "213m 37s (- 1728m 28s) (220000 11%) 0.1650\n",
      "222m 28s (- 1712m 6s) (230000 11%) 0.1631\n",
      "231m 19s (- 1696m 23s) (240000 12%) 0.1453\n",
      "240m 10s (- 1681m 14s) (250000 12%) 0.1531\n",
      "\t\t eval accuracy: 0.910\n",
      "252m 29s (- 1689m 44s) (260000 13%) 0.1582\n",
      "261m 17s (- 1674m 14s) (270000 13%) 0.1431\n",
      "270m 6s (- 1659m 16s) (280000 14%) 0.1548\n",
      "278m 58s (- 1645m 1s) (290000 14%) 0.1398\n",
      "287m 48s (- 1630m 56s) (300000 15%) 0.1450\n",
      "\t\t eval accuracy: 0.916\n",
      "300m 10s (- 1636m 27s) (310000 15%) 0.1421\n",
      "308m 57s (- 1622m 4s) (320000 16%) 0.1423\n",
      "317m 46s (- 1608m 8s) (330000 16%) 0.1367\n",
      "326m 38s (- 1594m 48s) (340000 17%) 0.1381\n",
      "335m 28s (- 1581m 31s) (350000 17%) 0.1285\n",
      "\t\t eval accuracy: 0.917\n",
      "347m 52s (- 1584m 44s) (360000 18%) 0.1286\n",
      "356m 42s (- 1571m 26s) (370000 18%) 0.1219\n",
      "365m 33s (- 1558m 24s) (380000 19%) 0.1140\n",
      "374m 25s (- 1545m 40s) (390000 19%) 0.1182\n",
      "383m 15s (- 1533m 1s) (400000 20%) 0.1173\n",
      "\t\t eval accuracy: 0.918\n",
      "395m 33s (- 1533m 58s) (410000 20%) 0.1096\n",
      "404m 19s (- 1521m 3s) (420000 21%) 0.1183\n",
      "413m 8s (- 1508m 28s) (430000 21%) 0.1152\n",
      "422m 0s (- 1496m 13s) (440000 22%) 0.1199\n",
      "430m 51s (- 1484m 5s) (450000 22%) 0.1096\n",
      "\t\t eval accuracy: 0.925\n",
      "443m 12s (- 1483m 47s) (460000 23%) 0.1070\n",
      "452m 2s (- 1471m 32s) (470000 23%) 0.1145\n",
      "460m 51s (- 1459m 23s) (480000 24%) 0.1027\n",
      "469m 38s (- 1447m 16s) (490000 24%) 0.1013\n",
      "478m 29s (- 1435m 29s) (500000 25%) 0.1052\n",
      "\t\t eval accuracy: 0.929\n",
      "490m 52s (- 1434m 8s) (510000 25%) 0.0986\n",
      "499m 43s (- 1422m 17s) (520000 26%) 0.1020\n",
      "508m 31s (- 1410m 26s) (530000 26%) 0.1052\n",
      "517m 23s (- 1398m 52s) (540000 27%) 0.1128\n",
      "526m 15s (- 1387m 23s) (550000 27%) 0.0977\n",
      "\t\t eval accuracy: 0.930\n",
      "538m 35s (- 1384m 57s) (560000 28%) 0.0987\n",
      "547m 27s (- 1373m 26s) (570000 28%) 0.0995\n",
      "556m 14s (- 1361m 50s) (580000 28%) 0.0986\n",
      "565m 4s (- 1350m 25s) (590000 29%) 0.1054\n",
      "573m 52s (- 1339m 2s) (600000 30%) 0.0954\n",
      "\t\t eval accuracy: 0.929\n",
      "586m 11s (- 1335m 45s) (610000 30%) 0.0989\n",
      "595m 3s (- 1324m 28s) (620000 31%) 0.0924\n",
      "603m 51s (- 1313m 9s) (630000 31%) 0.1036\n",
      "612m 43s (- 1302m 1s) (640000 32%) 0.0983\n",
      "621m 34s (- 1290m 58s) (650000 32%) 0.0976\n",
      "\t\t eval accuracy: 0.935\n",
      "633m 54s (- 1287m 1s) (660000 33%) 0.0879\n",
      "642m 44s (- 1275m 53s) (670000 33%) 0.0898\n",
      "651m 36s (- 1264m 53s) (680000 34%) 0.0942\n",
      "660m 24s (- 1253m 49s) (690000 34%) 0.0896\n",
      "669m 14s (- 1242m 52s) (700000 35%) 0.0968\n",
      "\t\t eval accuracy: 0.936\n",
      "681m 34s (- 1238m 21s) (710000 35%) 0.0896\n",
      "690m 26s (- 1227m 26s) (720000 36%) 0.1007\n",
      "699m 16s (- 1216m 33s) (730000 36%) 0.0858\n",
      "708m 4s (- 1205m 39s) (740000 37%) 0.0869\n",
      "716m 52s (- 1194m 48s) (750000 37%) 0.0825\n",
      "\t\t eval accuracy: 0.940\n",
      "729m 14s (- 1189m 48s) (760000 38%) 0.0904\n",
      "738m 4s (- 1179m 0s) (770000 38%) 0.0937\n",
      "746m 54s (- 1168m 14s) (780000 39%) 0.0842\n",
      "755m 42s (- 1157m 27s) (790000 39%) 0.0862\n",
      "764m 34s (- 1146m 51s) (800000 40%) 0.0895\n",
      "\t\t eval accuracy: 0.934\n",
      "776m 53s (- 1141m 21s) (810000 40%) 0.0873\n",
      "785m 44s (- 1130m 42s) (820000 41%) 0.0900\n",
      "794m 35s (- 1120m 5s) (830000 41%) 0.0848\n",
      "803m 26s (- 1109m 31s) (840000 42%) 0.0869\n",
      "812m 17s (- 1098m 58s) (850000 42%) 0.0807\n",
      "\t\t eval accuracy: 0.939\n",
      "824m 39s (- 1093m 9s) (860000 43%) 0.0868\n",
      "833m 32s (- 1082m 39s) (870000 43%) 0.0815\n",
      "842m 22s (- 1072m 7s) (880000 44%) 0.0830\n",
      "851m 14s (- 1061m 39s) (890000 44%) 0.0784\n",
      "860m 2s (- 1051m 9s) (900000 45%) 0.0841\n",
      "\t\t eval accuracy: 0.936\n",
      "872m 25s (- 1044m 59s) (910000 45%) 0.0905\n",
      "881m 17s (- 1034m 33s) (920000 46%) 0.0799\n",
      "890m 7s (- 1024m 7s) (930000 46%) 0.0881\n",
      "898m 57s (- 1013m 42s) (940000 47%) 0.0842\n",
      "907m 45s (- 1003m 18s) (950000 47%) 0.0806\n",
      "\t\t eval accuracy: 0.937\n",
      "920m 3s (- 996m 44s) (960000 48%) 0.0727\n",
      "928m 55s (- 986m 22s) (970000 48%) 0.0819\n",
      "937m 48s (- 976m 4s) (980000 49%) 0.0772\n",
      "946m 37s (- 965m 44s) (990000 49%) 0.0744\n",
      "955m 27s (- 955m 27s) (1000000 50%) 0.0822\n",
      "\t\t eval accuracy: 0.942\n",
      "967m 47s (- 948m 37s) (1010000 50%) 0.0831\n",
      "976m 34s (- 938m 16s) (1020000 51%) 0.0801\n",
      "985m 26s (- 928m 2s) (1030000 51%) 0.0833\n",
      "994m 16s (- 917m 47s) (1040000 52%) 0.0798\n",
      "1003m 7s (- 907m 35s) (1050000 52%) 0.0816\n",
      "\t\t eval accuracy: 0.940\n",
      "1015m 27s (- 900m 29s) (1060000 53%) 0.0769\n",
      "1024m 19s (- 890m 17s) (1070000 53%) 0.0843\n",
      "1033m 8s (- 880m 4s) (1080000 54%) 0.0729\n",
      "1041m 57s (- 869m 53s) (1090000 54%) 0.0731\n",
      "1050m 50s (- 859m 46s) (1100000 55%) 0.0871\n",
      "\t\t eval accuracy: 0.942\n",
      "1063m 13s (- 852m 29s) (1110000 55%) 0.0822\n",
      "1072m 9s (- 842m 24s) (1120000 56%) 0.0818\n",
      "1081m 1s (- 832m 17s) (1130000 56%) 0.0779\n",
      "1089m 54s (- 822m 12s) (1140000 56%) 0.0743\n",
      "1098m 47s (- 812m 8s) (1150000 57%) 0.0789\n",
      "\t\t eval accuracy: 0.938\n",
      "1111m 11s (- 804m 39s) (1160000 57%) 0.0748\n",
      "1120m 7s (- 794m 37s) (1170000 58%) 0.0820\n",
      "1129m 1s (- 784m 34s) (1180000 59%) 0.0796\n",
      "1137m 55s (- 774m 33s) (1190000 59%) 0.0785\n",
      "1146m 48s (- 764m 32s) (1200000 60%) 0.0691\n",
      "\t\t eval accuracy: 0.946\n",
      "1159m 10s (- 756m 49s) (1210000 60%) 0.0865\n",
      "1168m 0s (- 746m 45s) (1220000 61%) 0.0786\n",
      "1176m 52s (- 736m 44s) (1230000 61%) 0.0747\n",
      "1185m 45s (- 726m 45s) (1240000 62%) 0.0737\n",
      "1194m 37s (- 716m 46s) (1250000 62%) 0.0734\n",
      "\t\t eval accuracy: 0.940\n",
      "1206m 59s (- 708m 51s) (1260000 63%) 0.0711\n",
      "1215m 48s (- 698m 50s) (1270000 63%) 0.0771\n",
      "1224m 42s (- 688m 54s) (1280000 64%) 0.0702\n",
      "1233m 35s (- 678m 57s) (1290000 64%) 0.0741\n",
      "1242m 29s (- 669m 1s) (1300000 65%) 0.0727\n",
      "\t\t eval accuracy: 0.944\n",
      "1254m 53s (- 660m 58s) (1310000 65%) 0.0791\n",
      "1263m 45s (- 651m 1s) (1320000 66%) 0.0758\n",
      "1272m 36s (- 641m 5s) (1330000 66%) 0.0767\n",
      "1281m 28s (- 631m 10s) (1340000 67%) 0.0806\n",
      "1290m 20s (- 621m 16s) (1350000 67%) 0.0714\n",
      "\t\t eval accuracy: 0.944\n",
      "1302m 42s (- 613m 2s) (1360000 68%) 0.0721\n",
      "1311m 32s (- 603m 7s) (1370000 68%) 0.0754\n",
      "1320m 23s (- 593m 13s) (1380000 69%) 0.0687\n",
      "1329m 14s (- 583m 20s) (1390000 69%) 0.0784\n",
      "1338m 6s (- 573m 28s) (1400000 70%) 0.0722\n",
      "\t\t eval accuracy: 0.945\n",
      "1350m 30s (- 565m 6s) (1410000 70%) 0.0698\n",
      "1359m 22s (- 555m 14s) (1420000 71%) 0.0821\n",
      "1368m 14s (- 545m 23s) (1430000 71%) 0.0723\n",
      "1377m 9s (- 535m 33s) (1440000 72%) 0.0787\n",
      "1386m 2s (- 525m 44s) (1450000 72%) 0.0755\n",
      "\t\t eval accuracy: 0.943\n",
      "1398m 24s (- 517m 13s) (1460000 73%) 0.0776\n",
      "1407m 16s (- 507m 22s) (1470000 73%) 0.0746\n",
      "1416m 7s (- 497m 33s) (1480000 74%) 0.0717\n",
      "1424m 57s (- 487m 44s) (1490000 74%) 0.0696\n",
      "1433m 52s (- 477m 57s) (1500000 75%) 0.0693\n",
      "\t\t eval accuracy: 0.946\n",
      "1446m 18s (- 469m 19s) (1510000 75%) 0.0689\n",
      "1455m 9s (- 459m 31s) (1520000 76%) 0.0704\n",
      "1464m 2s (- 449m 44s) (1530000 76%) 0.0757\n",
      "1472m 54s (- 439m 57s) (1540000 77%) 0.0754\n",
      "1481m 47s (- 430m 11s) (1550000 77%) 0.0677\n",
      "\t\t eval accuracy: 0.945\n",
      "1494m 12s (- 421m 26s) (1560000 78%) 0.0683\n",
      "1503m 7s (- 411m 41s) (1570000 78%) 0.0741\n",
      "1512m 1s (- 401m 55s) (1580000 79%) 0.0760\n",
      "1520m 51s (- 392m 10s) (1590000 79%) 0.0703\n",
      "1529m 41s (- 382m 25s) (1600000 80%) 0.0740\n",
      "\t\t eval accuracy: 0.945\n",
      "1542m 6s (- 373m 33s) (1610000 80%) 0.0713\n",
      "1551m 0s (- 363m 49s) (1620000 81%) 0.0675\n",
      "1559m 53s (- 354m 5s) (1630000 81%) 0.0702\n",
      "1568m 45s (- 344m 21s) (1640000 82%) 0.0683\n",
      "1577m 36s (- 334m 38s) (1650000 82%) 0.0676\n",
      "\t\t eval accuracy: 0.944\n",
      "1590m 0s (- 325m 39s) (1660000 83%) 0.0716\n",
      "1598m 51s (- 315m 56s) (1670000 83%) 0.0669\n",
      "1607m 42s (- 306m 13s) (1680000 84%) 0.0788\n",
      "1616m 33s (- 296m 31s) (1690000 84%) 0.0749\n",
      "1625m 26s (- 286m 50s) (1700000 85%) 0.0691\n",
      "\t\t eval accuracy: 0.946\n",
      "1637m 51s (- 277m 45s) (1710000 85%) 0.0693\n",
      "1646m 42s (- 268m 4s) (1720000 86%) 0.0701\n",
      "1655m 32s (- 258m 22s) (1730000 86%) 0.0726\n"
     ]
    },
    {
     "name": "stdout",
     "output_type": "stream",
     "text": [
      "1664m 24s (- 248m 42s) (1740000 87%) 0.0779\n",
      "1673m 20s (- 239m 2s) (1750000 87%) 0.0696\n",
      "\t\t eval accuracy: 0.946\n",
      "1685m 40s (- 229m 51s) (1760000 88%) 0.0730\n",
      "1694m 34s (- 220m 11s) (1770000 88%) 0.0743\n",
      "1703m 30s (- 210m 32s) (1780000 89%) 0.0741\n",
      "1712m 22s (- 200m 53s) (1790000 89%) 0.0685\n",
      "1721m 17s (- 191m 15s) (1800000 90%) 0.0708\n",
      "\t\t eval accuracy: 0.943\n",
      "1733m 39s (- 181m 59s) (1810000 90%) 0.0674\n",
      "1742m 31s (- 172m 20s) (1820000 91%) 0.0736\n",
      "1751m 21s (- 162m 41s) (1830000 91%) 0.0732\n",
      "1760m 10s (- 153m 3s) (1840000 92%) 0.0629\n",
      "1769m 2s (- 143m 26s) (1850000 92%) 0.0670\n",
      "\t\t eval accuracy: 0.949\n",
      "1781m 22s (- 134m 4s) (1860000 93%) 0.0721\n",
      "1790m 15s (- 124m 27s) (1870000 93%) 0.0780\n",
      "1799m 9s (- 114m 50s) (1880000 94%) 0.0718\n",
      "1808m 1s (- 105m 13s) (1890000 94%) 0.0727\n",
      "1816m 53s (- 95m 37s) (1900000 95%) 0.0711\n",
      "\t\t eval accuracy: 0.945\n",
      "1829m 14s (- 86m 11s) (1910000 95%) 0.0748\n",
      "1838m 7s (- 76m 35s) (1920000 96%) 0.0719\n",
      "1847m 0s (- 66m 59s) (1930000 96%) 0.0730\n",
      "1855m 55s (- 57m 23s) (1940000 97%) 0.0743\n",
      "1864m 47s (- 47m 48s) (1950000 97%) 0.0713\n",
      "\t\t eval accuracy: 0.946\n",
      "1877m 13s (- 38m 18s) (1960000 98%) 0.0735\n",
      "1886m 2s (- 28m 43s) (1970000 98%) 0.0781\n",
      "1894m 56s (- 19m 8s) (1980000 99%) 0.0740\n",
      "1903m 45s (- 9m 33s) (1990000 99%) 0.0725\n",
      "1912m 39s (- 0m 0s) (2000000 100%) 0.0742\n",
      "\t\t eval accuracy: 0.947\n"
     ]
    },
    {
     "data": {
      "text/plain": [
       "<matplotlib.figure.Figure at 0x7f1cce26fb00>"
      ]
     },
     "metadata": {},
     "output_type": "display_data"
    },
    {
     "data": {
      "image/png": "[encoded data removed]",
      "text/plain": [
       "<matplotlib.figure.Figure at 0x7f1cc8fa48d0>"
      ]
     },
     "metadata": {},
     "output_type": "display_data"
    },
    {
     "data": {
      "text/plain": [
       "<matplotlib.figure.Figure at 0x7f1d81ccb518>"
      ]
     },
     "metadata": {},
     "output_type": "display_data"
    },
    {
     "data": {
      "image/png": "[encoded data removed]",
      "text/plain": [
       "<matplotlib.figure.Figure at 0x7f1b14282518>"
      ]
     },
     "metadata": {},
     "output_type": "display_data"
    }
   ],
   "source": [
    "torch.backends.cudnn.enabled = False\n",
    "test_pairs = dev_pairs[:10000]\n",
    "\n",
    "\n",
    "hidden_size = 256\n",
    "encoder1 = EncoderRNN(input_lang.n_words, hidden_size, n_layers=2)\n",
    "attn_decoder1 = AttnDecoderRNN(hidden_size, output_lang.n_words,\n",
    "                           n_layers =2, dropout_p=0.1)\n",
    "\n",
    "if use_cuda:\n",
    "    print('Using CUDA')\n",
    "    encoder1 = encoder1.cuda()\n",
    "    attn_decoder1 = attn_decoder1.cuda()\n",
    "\n",
    "callback_num = 10000\n",
    "plot_losses = trainIters(encoder1, attn_decoder1, train_pairs, 2000000, print_every=callback_num, \n",
    "                         plot_every=callback_num, evaluate_each=50000)"
   ]
  },
  {
   "cell_type": "code",
   "execution_count": 33,
   "metadata": {},
   "outputs": [
    {
     "name": "stdout",
     "output_type": "stream",
     "text": [
      "10m 0s (- 991m 19s) (10000 1%) 0.0716\n",
      "19m 7s (- 936m 56s) (20000 2%) 0.0660\n",
      "28m 11s (- 911m 21s) (30000 3%) 0.0642\n",
      "37m 15s (- 894m 2s) (40000 4%) 0.0750\n",
      "46m 19s (- 880m 13s) (50000 5%) 0.0783\n",
      "\t\t eval accuracy: 0.945\n",
      "58m 57s (- 923m 37s) (60000 6%) 0.0748\n",
      "68m 4s (- 904m 24s) (70000 7%) 0.0711\n",
      "77m 7s (- 886m 55s) (80000 8%) 0.0685\n",
      "86m 14s (- 872m 1s) (90000 9%) 0.0708\n",
      "95m 18s (- 857m 49s) (100000 10%) 0.0752\n",
      "\t\t eval accuracy: 0.946\n",
      "107m 59s (- 873m 47s) (110000 11%) 0.0675\n",
      "117m 6s (- 858m 49s) (120000 12%) 0.0722\n",
      "126m 9s (- 844m 18s) (130000 13%) 0.0721\n",
      "135m 16s (- 830m 57s) (140000 14%) 0.0749\n",
      "144m 21s (- 818m 0s) (150000 15%) 0.0733\n",
      "\t\t eval accuracy: 0.945\n",
      "157m 3s (- 824m 33s) (160000 16%) 0.0709\n",
      "166m 10s (- 811m 18s) (170000 17%) 0.0687\n",
      "175m 13s (- 798m 14s) (180000 18%) 0.0720\n",
      "184m 17s (- 785m 41s) (190000 19%) 0.0703\n",
      "193m 24s (- 773m 38s) (200000 20%) 0.0763\n",
      "\t\t eval accuracy: 0.945\n",
      "206m 3s (- 775m 9s) (210000 21%) 0.0711\n",
      "215m 7s (- 762m 43s) (220000 22%) 0.0733\n",
      "224m 14s (- 750m 43s) (230000 23%) 0.0712\n",
      "233m 16s (- 738m 43s) (240000 24%) 0.0660\n",
      "242m 21s (- 727m 5s) (250000 25%) 0.0665\n",
      "\t\t eval accuracy: 0.944\n",
      "255m 2s (- 725m 53s) (260000 26%) 0.0735\n",
      "264m 7s (- 714m 7s) (270000 27%) 0.0751\n",
      "273m 13s (- 702m 34s) (280000 28%) 0.0763\n",
      "282m 16s (- 691m 5s) (290000 28%) 0.0695\n",
      "291m 20s (- 679m 48s) (300000 30%) 0.0771\n",
      "\t\t eval accuracy: 0.944\n",
      "304m 2s (- 676m 44s) (310000 31%) 0.0706\n",
      "313m 8s (- 665m 25s) (320000 32%) 0.0666\n",
      "322m 15s (- 654m 17s) (330000 33%) 0.0691\n",
      "331m 21s (- 643m 13s) (340000 34%) 0.0743\n",
      "340m 26s (- 632m 15s) (350000 35%) 0.0742\n",
      "\t\t eval accuracy: 0.942\n",
      "353m 5s (- 627m 43s) (360000 36%) 0.0708\n",
      "362m 11s (- 616m 41s) (370000 37%) 0.0778\n",
      "371m 18s (- 605m 48s) (380000 38%) 0.0753\n",
      "380m 22s (- 594m 57s) (390000 39%) 0.0777\n",
      "389m 25s (- 584m 8s) (400000 40%) 0.0640\n",
      "\t\t eval accuracy: 0.946\n",
      "402m 10s (- 578m 44s) (410000 41%) 0.0730\n",
      "411m 15s (- 567m 55s) (420000 42%) 0.0757\n",
      "420m 19s (- 557m 10s) (430000 43%) 0.0752\n",
      "429m 25s (- 546m 32s) (440000 44%) 0.0724\n",
      "438m 28s (- 535m 55s) (450000 45%) 0.0712\n",
      "\t\t eval accuracy: 0.942\n",
      "451m 8s (- 529m 35s) (460000 46%) 0.0724\n",
      "460m 13s (- 518m 58s) (470000 47%) 0.0689\n",
      "469m 17s (- 508m 23s) (480000 48%) 0.0685\n",
      "478m 20s (- 497m 51s) (490000 49%) 0.0715\n",
      "487m 24s (- 487m 24s) (500000 50%) 0.0800\n",
      "\t\t eval accuracy: 0.945\n",
      "500m 5s (- 480m 28s) (510000 51%) 0.0697\n",
      "509m 12s (- 470m 2s) (520000 52%) 0.0732\n",
      "518m 17s (- 459m 36s) (530000 53%) 0.0735\n",
      "527m 22s (- 449m 14s) (540000 54%) 0.0772\n",
      "536m 26s (- 438m 54s) (550000 55%) 0.0680\n",
      "\t\t eval accuracy: 0.943\n",
      "549m 10s (- 431m 29s) (560000 56%) 0.0735\n",
      "558m 17s (- 421m 10s) (570000 56%) 0.0665\n",
      "567m 21s (- 410m 50s) (580000 57%) 0.0735\n",
      "576m 26s (- 400m 34s) (590000 59%) 0.0789\n",
      "585m 34s (- 390m 23s) (600000 60%) 0.0774\n",
      "\t\t eval accuracy: 0.942\n",
      "598m 15s (- 382m 29s) (610000 61%) 0.0673\n",
      "607m 22s (- 372m 15s) (620000 62%) 0.0737\n",
      "616m 24s (- 362m 1s) (630000 63%) 0.0719\n",
      "625m 29s (- 351m 50s) (640000 64%) 0.0726\n",
      "634m 38s (- 341m 43s) (650000 65%) 0.0805\n",
      "\t\t eval accuracy: 0.944\n",
      "647m 16s (- 333m 26s) (660000 66%) 0.0786\n",
      "656m 20s (- 323m 16s) (670000 67%) 0.0782\n",
      "665m 25s (- 313m 8s) (680000 68%) 0.0741\n",
      "674m 32s (- 303m 3s) (690000 69%) 0.0765\n",
      "683m 39s (- 292m 59s) (700000 70%) 0.0676\n",
      "\t\t eval accuracy: 0.947\n",
      "696m 20s (- 284m 25s) (710000 71%) 0.0835\n",
      "705m 26s (- 274m 20s) (720000 72%) 0.0689\n",
      "714m 32s (- 264m 17s) (730000 73%) 0.0792\n",
      "723m 38s (- 254m 15s) (740000 74%) 0.0746\n",
      "732m 48s (- 244m 16s) (750000 75%) 0.0798\n",
      "\t\t eval accuracy: 0.943\n",
      "745m 33s (- 235m 26s) (760000 76%) 0.0783\n",
      "754m 39s (- 225m 25s) (770000 77%) 0.0665\n",
      "763m 45s (- 215m 25s) (780000 78%) 0.0700\n",
      "772m 54s (- 205m 27s) (790000 79%) 0.0725\n",
      "782m 1s (- 195m 30s) (800000 80%) 0.0754\n",
      "\t\t eval accuracy: 0.944\n",
      "794m 44s (- 186m 25s) (810000 81%) 0.0803\n",
      "803m 47s (- 176m 26s) (820000 82%) 0.0677\n",
      "812m 56s (- 166m 30s) (830000 83%) 0.0714\n",
      "822m 1s (- 156m 34s) (840000 84%) 0.0628\n",
      "831m 6s (- 146m 40s) (850000 85%) 0.0678\n",
      "\t\t eval accuracy: 0.942\n",
      "843m 48s (- 137m 21s) (860000 86%) 0.0750\n",
      "852m 53s (- 127m 26s) (870000 87%) 0.0753\n",
      "862m 1s (- 117m 32s) (880000 88%) 0.0768\n",
      "871m 7s (- 107m 40s) (890000 89%) 0.0777\n",
      "880m 15s (- 97m 48s) (900000 90%) 0.0786\n",
      "\t\t eval accuracy: 0.945\n",
      "892m 57s (- 88m 18s) (910000 91%) 0.0824\n",
      "902m 2s (- 78m 26s) (920000 92%) 0.0710\n",
      "911m 10s (- 68m 34s) (930000 93%) 0.0738\n",
      "920m 15s (- 58m 44s) (940000 94%) 0.0802\n",
      "929m 22s (- 48m 54s) (950000 95%) 0.0766\n",
      "\t\t eval accuracy: 0.943\n",
      "942m 7s (- 39m 15s) (960000 96%) 0.0775\n",
      "951m 13s (- 29m 25s) (970000 97%) 0.0744\n",
      "960m 16s (- 19m 35s) (980000 98%) 0.0688\n",
      "969m 20s (- 9m 47s) (990000 99%) 0.0818\n",
      "978m 28s (- 0m 0s) (1000000 100%) 0.0836\n",
      "\t\t eval accuracy: 0.940\n"
     ]
    },
    {
     "data": {
      "text/plain": [
       "<matplotlib.figure.Figure at 0x7f1d1cb73048>"
      ]
     },
     "metadata": {},
     "output_type": "display_data"
    },
    {
     "data": {
      "image/png": "[encoded data removed]",
      "text/plain": [
       "<matplotlib.figure.Figure at 0x7f1c3ef0b978>"
      ]
     },
     "metadata": {},
     "output_type": "display_data"
    },
    {
     "data": {
      "text/plain": [
       "<matplotlib.figure.Figure at 0x7f1b142827b8>"
      ]
     },
     "metadata": {},
     "output_type": "display_data"
    },
    {
     "data": {
      "image/png": "[encoded data removed]",
      "text/plain": [
       "<matplotlib.figure.Figure at 0x7f1c44e0af60>"
      ]
     },
     "metadata": {},
     "output_type": "display_data"
    }
   ],
   "source": [
    "plot_losses = trainIters(encoder1, attn_decoder1, train_pairs, 1000000, print_every=callback_num, \n",
    "                         plot_every=callback_num, evaluate_each=50000)"
   ]
  },
  {
   "cell_type": "code",
   "execution_count": 34,
   "metadata": {
    "scrolled": true
   },
   "outputs": [
    {
     "name": "stdout",
     "output_type": "stream",
     "text": [
      "9m 33s (- 468m 22s) (10000 2%) 0.0770\n",
      "18m 35s (- 446m 11s) (20000 4%) 0.0663\n",
      "27m 39s (- 433m 24s) (30000 6%) 0.0677\n",
      "36m 49s (- 423m 32s) (40000 8%) 0.0638\n",
      "45m 53s (- 413m 5s) (50000 10%) 0.0647\n",
      "\t\t eval accuracy: 0.947\n",
      "58m 34s (- 429m 35s) (60000 12%) 0.0581\n",
      "67m 38s (- 415m 30s) (70000 14%) 0.0609\n",
      "76m 43s (- 402m 46s) (80000 16%) 0.0598\n",
      "85m 47s (- 390m 51s) (90000 18%) 0.0645\n",
      "94m 53s (- 379m 35s) (100000 20%) 0.0613\n",
      "\t\t eval accuracy: 0.952\n",
      "107m 34s (- 381m 24s) (110000 22%) 0.0596\n",
      "116m 39s (- 369m 26s) (120000 24%) 0.0525\n",
      "125m 45s (- 357m 55s) (130000 26%) 0.0580\n",
      "134m 51s (- 346m 47s) (140000 28%) 0.0635\n",
      "143m 56s (- 335m 50s) (150000 30%) 0.0581\n",
      "\t\t eval accuracy: 0.953\n",
      "156m 34s (- 332m 44s) (160000 32%) 0.0554\n",
      "165m 36s (- 321m 29s) (170000 34%) 0.0523\n",
      "174m 40s (- 310m 31s) (180000 36%) 0.0563\n",
      "183m 42s (- 299m 43s) (190000 38%) 0.0583\n",
      "192m 43s (- 289m 4s) (200000 40%) 0.0504\n",
      "\t\t eval accuracy: 0.954\n",
      "205m 16s (- 283m 28s) (210000 42%) 0.0534\n",
      "214m 17s (- 272m 43s) (220000 44%) 0.0520\n",
      "223m 20s (- 262m 10s) (230000 46%) 0.0572\n",
      "232m 24s (- 251m 46s) (240000 48%) 0.0506\n",
      "241m 26s (- 241m 26s) (250000 50%) 0.0577\n",
      "\t\t eval accuracy: 0.956\n",
      "254m 2s (- 234m 29s) (260000 52%) 0.0490\n",
      "263m 4s (- 224m 5s) (270000 54%) 0.0503\n",
      "272m 4s (- 213m 46s) (280000 56%) 0.0530\n",
      "281m 5s (- 203m 32s) (290000 57%) 0.0533\n",
      "290m 6s (- 193m 24s) (300000 60%) 0.0509\n",
      "\t\t eval accuracy: 0.957\n",
      "302m 43s (- 185m 32s) (310000 62%) 0.0545\n",
      "311m 46s (- 175m 22s) (320000 64%) 0.0567\n",
      "320m 47s (- 165m 15s) (330000 66%) 0.0542\n",
      "329m 50s (- 155m 13s) (340000 68%) 0.0551\n",
      "338m 55s (- 145m 15s) (350000 70%) 0.0507\n",
      "\t\t eval accuracy: 0.957\n",
      "351m 34s (- 136m 43s) (360000 72%) 0.0540\n",
      "360m 38s (- 126m 42s) (370000 74%) 0.0448\n",
      "369m 44s (- 116m 45s) (380000 76%) 0.0542\n",
      "378m 49s (- 106m 50s) (390000 78%) 0.0502\n",
      "387m 52s (- 96m 58s) (400000 80%) 0.0500\n",
      "\t\t eval accuracy: 0.959\n",
      "400m 30s (- 87m 55s) (410000 82%) 0.0524\n",
      "409m 34s (- 78m 0s) (420000 84%) 0.0532\n",
      "418m 38s (- 68m 9s) (430000 86%) 0.0466\n",
      "427m 39s (- 58m 19s) (440000 88%) 0.0548\n",
      "436m 42s (- 48m 31s) (450000 90%) 0.0438\n",
      "\t\t eval accuracy: 0.960\n",
      "449m 20s (- 39m 4s) (460000 92%) 0.0488\n",
      "458m 23s (- 29m 15s) (470000 94%) 0.0512\n",
      "467m 28s (- 19m 28s) (480000 96%) 0.0523\n",
      "476m 34s (- 9m 43s) (490000 98%) 0.0533\n",
      "485m 38s (- 0m 0s) (500000 100%) 0.0472\n",
      "\t\t eval accuracy: 0.960\n"
     ]
    },
    {
     "data": {
      "text/plain": [
       "<matplotlib.figure.Figure at 0x7f1d81ccb400>"
      ]
     },
     "metadata": {},
     "output_type": "display_data"
    },
    {
     "data": {
      "image/png": "[encoded data removed]",
      "text/plain": [
       "<matplotlib.figure.Figure at 0x7f1cc8f4def0>"
      ]
     },
     "metadata": {},
     "output_type": "display_data"
    },
    {
     "data": {
      "text/plain": [
       "<matplotlib.figure.Figure at 0x7f1c33773d30>"
      ]
     },
     "metadata": {},
     "output_type": "display_data"
    },
    {
     "data": {
      "image/png": "[encoded data removed]",
      "text/plain": [
       "<matplotlib.figure.Figure at 0x7f1c4630a390>"
      ]
     },
     "metadata": {},
     "output_type": "display_data"
    }
   ],
   "source": [
    "plot_losses = trainIters(encoder1, attn_decoder1, train_pairs, 500000, print_every=callback_num, \n",
    "                         plot_every=callback_num, evaluate_each=50000, learning_rate = 0.001)"
   ]
  },
  {
   "cell_type": "code",
   "execution_count": 35,
   "metadata": {},
   "outputs": [
    {
     "name": "stdout",
     "output_type": "stream",
     "text": [
      "9m 12s (- 128m 51s) (10000 6%) 0.0526\n",
      "18m 14s (- 118m 31s) (20000 13%) 0.0540\n",
      "27m 14s (- 108m 56s) (30000 20%) 0.0541\n",
      "36m 17s (- 99m 48s) (40000 26%) 0.0522\n",
      "45m 21s (- 90m 43s) (50000 33%) 0.0481\n",
      "\t\t eval accuracy: 0.960\n",
      "57m 54s (- 86m 52s) (60000 40%) 0.0455\n",
      "66m 56s (- 76m 30s) (70000 46%) 0.0468\n",
      "75m 58s (- 66m 28s) (80000 53%) 0.0503\n",
      "85m 1s (- 56m 41s) (90000 60%) 0.0515\n",
      "94m 7s (- 47m 3s) (100000 66%) 0.0581\n",
      "\t\t eval accuracy: 0.960\n"
     ]
    },
    {
     "ename": "KeyboardInterrupt",
     "evalue": "",
     "output_type": "error",
     "traceback": [
      "\u001b[0;31m---------------------------------------------------------------------------\u001b[0m",
      "\u001b[0;31mKeyboardInterrupt\u001b[0m                         Traceback (most recent call last)",
      "\u001b[0;32m<ipython-input-35-bfaf45fa31f4>\u001b[0m in \u001b[0;36m<module>\u001b[0;34m()\u001b[0m\n\u001b[1;32m      1\u001b[0m plot_losses = trainIters(encoder1, attn_decoder1, train_pairs, 150000, print_every=callback_num, \n\u001b[0;32m----> 2\u001b[0;31m                          plot_every=callback_num, evaluate_each=50000, learning_rate = 0.0001)\n\u001b[0m",
      "\u001b[0;32m<ipython-input-25-5031c00fb4e7>\u001b[0m in \u001b[0;36mtrainIters\u001b[0;34m(encoder, decoder, pairs, n_iters, print_every, plot_every, learning_rate, evaluate_each)\u001b[0m\n\u001b[1;32m     18\u001b[0m \u001b[0;34m\u001b[0m\u001b[0m\n\u001b[1;32m     19\u001b[0m         loss = train(input_variable, target_variable, encoder,\n\u001b[0;32m---> 20\u001b[0;31m                      decoder, encoder_optimizer, decoder_optimizer, criterion)\n\u001b[0m\u001b[1;32m     21\u001b[0m         \u001b[0mprint_loss_total\u001b[0m \u001b[0;34m+=\u001b[0m \u001b[0mloss\u001b[0m\u001b[0;34m\u001b[0m\u001b[0m\n\u001b[1;32m     22\u001b[0m         \u001b[0mplot_loss_total\u001b[0m \u001b[0;34m+=\u001b[0m \u001b[0mloss\u001b[0m\u001b[0;34m\u001b[0m\u001b[0m\n",
      "\u001b[0;32m<ipython-input-21-ecbcf97d0853>\u001b[0m in \u001b[0;36mtrain\u001b[0;34m(input_variable, target_variable, encoder, decoder, encoder_optimizer, decoder_optimizer, criterion, max_length)\u001b[0m\n\u001b[1;32m     40\u001b[0m         \u001b[0;32mfor\u001b[0m \u001b[0mdi\u001b[0m \u001b[0;32min\u001b[0m \u001b[0mrange\u001b[0m\u001b[0;34m(\u001b[0m\u001b[0mtarget_length\u001b[0m\u001b[0;34m)\u001b[0m\u001b[0;34m:\u001b[0m\u001b[0;34m\u001b[0m\u001b[0m\n\u001b[1;32m     41\u001b[0m             decoder_output, decoder_hidden, decoder_attention = decoder(\n\u001b[0;32m---> 42\u001b[0;31m                 decoder_input, decoder_hidden, encoder_output, encoder_outputs)\n\u001b[0m\u001b[1;32m     43\u001b[0m             \u001b[0mtopv\u001b[0m\u001b[0;34m,\u001b[0m \u001b[0mtopi\u001b[0m \u001b[0;34m=\u001b[0m \u001b[0mdecoder_output\u001b[0m\u001b[0;34m.\u001b[0m\u001b[0mdata\u001b[0m\u001b[0;34m.\u001b[0m\u001b[0mtopk\u001b[0m\u001b[0;34m(\u001b[0m\u001b[0;36m1\u001b[0m\u001b[0;34m)\u001b[0m\u001b[0;34m\u001b[0m\u001b[0m\n\u001b[1;32m     44\u001b[0m             \u001b[0mni\u001b[0m \u001b[0;34m=\u001b[0m \u001b[0mtopi\u001b[0m\u001b[0;34m[\u001b[0m\u001b[0;36m0\u001b[0m\u001b[0;34m]\u001b[0m\u001b[0;34m[\u001b[0m\u001b[0;36m0\u001b[0m\u001b[0;34m]\u001b[0m\u001b[0;34m\u001b[0m\u001b[0m\n",
      "\u001b[0;32m~/anaconda3/lib/python3.6/site-packages/torch/nn/modules/module.py\u001b[0m in \u001b[0;36m__call__\u001b[0;34m(self, *input, **kwargs)\u001b[0m\n\u001b[1;32m    222\u001b[0m         \u001b[0;32mfor\u001b[0m \u001b[0mhook\u001b[0m \u001b[0;32min\u001b[0m \u001b[0mself\u001b[0m\u001b[0;34m.\u001b[0m\u001b[0m_forward_pre_hooks\u001b[0m\u001b[0;34m.\u001b[0m\u001b[0mvalues\u001b[0m\u001b[0;34m(\u001b[0m\u001b[0;34m)\u001b[0m\u001b[0;34m:\u001b[0m\u001b[0;34m\u001b[0m\u001b[0m\n\u001b[1;32m    223\u001b[0m             \u001b[0mhook\u001b[0m\u001b[0;34m(\u001b[0m\u001b[0mself\u001b[0m\u001b[0;34m,\u001b[0m \u001b[0minput\u001b[0m\u001b[0;34m)\u001b[0m\u001b[0;34m\u001b[0m\u001b[0m\n\u001b[0;32m--> 224\u001b[0;31m         \u001b[0mresult\u001b[0m \u001b[0;34m=\u001b[0m \u001b[0mself\u001b[0m\u001b[0;34m.\u001b[0m\u001b[0mforward\u001b[0m\u001b[0;34m(\u001b[0m\u001b[0;34m*\u001b[0m\u001b[0minput\u001b[0m\u001b[0;34m,\u001b[0m \u001b[0;34m**\u001b[0m\u001b[0mkwargs\u001b[0m\u001b[0;34m)\u001b[0m\u001b[0;34m\u001b[0m\u001b[0m\n\u001b[0m\u001b[1;32m    225\u001b[0m         \u001b[0;32mfor\u001b[0m \u001b[0mhook\u001b[0m \u001b[0;32min\u001b[0m \u001b[0mself\u001b[0m\u001b[0;34m.\u001b[0m\u001b[0m_forward_hooks\u001b[0m\u001b[0;34m.\u001b[0m\u001b[0mvalues\u001b[0m\u001b[0;34m(\u001b[0m\u001b[0;34m)\u001b[0m\u001b[0;34m:\u001b[0m\u001b[0;34m\u001b[0m\u001b[0m\n\u001b[1;32m    226\u001b[0m             \u001b[0mhook_result\u001b[0m \u001b[0;34m=\u001b[0m \u001b[0mhook\u001b[0m\u001b[0;34m(\u001b[0m\u001b[0mself\u001b[0m\u001b[0;34m,\u001b[0m \u001b[0minput\u001b[0m\u001b[0;34m,\u001b[0m \u001b[0mresult\u001b[0m\u001b[0;34m)\u001b[0m\u001b[0;34m\u001b[0m\u001b[0m\n",
      "\u001b[0;32m<ipython-input-19-c227f15ad09e>\u001b[0m in \u001b[0;36mforward\u001b[0;34m(self, input, hidden, encoder_output, encoder_outputs)\u001b[0m\n\u001b[1;32m     69\u001b[0m \u001b[0;34m\u001b[0m\u001b[0m\n\u001b[1;32m     70\u001b[0m         attn_weights = F.softmax(\n\u001b[0;32m---> 71\u001b[0;31m             self.attn(torch.cat((embedded[0], hidden[0]), 1)))\n\u001b[0m\u001b[1;32m     72\u001b[0m         attn_applied = torch.bmm(attn_weights.unsqueeze(0),\n\u001b[1;32m     73\u001b[0m                                  encoder_outputs.unsqueeze(0))\n",
      "\u001b[0;32m~/anaconda3/lib/python3.6/site-packages/torch/nn/functional.py\u001b[0m in \u001b[0;36msoftmax\u001b[0;34m(input)\u001b[0m\n\u001b[1;32m    527\u001b[0m \u001b[0;34m\u001b[0m\u001b[0m\n\u001b[1;32m    528\u001b[0m \u001b[0;32mdef\u001b[0m \u001b[0msoftmax\u001b[0m\u001b[0;34m(\u001b[0m\u001b[0minput\u001b[0m\u001b[0;34m)\u001b[0m\u001b[0;34m:\u001b[0m\u001b[0;34m\u001b[0m\u001b[0m\n\u001b[0;32m--> 529\u001b[0;31m     \u001b[0;32mreturn\u001b[0m \u001b[0m_functions\u001b[0m\u001b[0;34m.\u001b[0m\u001b[0mthnn\u001b[0m\u001b[0;34m.\u001b[0m\u001b[0mauto\u001b[0m\u001b[0;34m.\u001b[0m\u001b[0mSoftmax\u001b[0m\u001b[0;34m.\u001b[0m\u001b[0mapply\u001b[0m\u001b[0;34m(\u001b[0m\u001b[0minput\u001b[0m\u001b[0;34m)\u001b[0m\u001b[0;34m\u001b[0m\u001b[0m\n\u001b[0m\u001b[1;32m    530\u001b[0m \u001b[0;34m\u001b[0m\u001b[0m\n\u001b[1;32m    531\u001b[0m \u001b[0;34m\u001b[0m\u001b[0m\n",
      "\u001b[0;32m~/anaconda3/lib/python3.6/site-packages/torch/nn/_functions/thnn/auto.py\u001b[0m in \u001b[0;36mforward\u001b[0;34m(ctx, input, *params)\u001b[0m\n\u001b[1;32m    122\u001b[0m         \u001b[0;32mreturn\u001b[0m \u001b[0mtuple\u001b[0m\u001b[0;34m(\u001b[0m\u001b[0madditional_args\u001b[0m\u001b[0;34m)\u001b[0m\u001b[0;34m\u001b[0m\u001b[0m\n\u001b[1;32m    123\u001b[0m \u001b[0;34m\u001b[0m\u001b[0m\n\u001b[0;32m--> 124\u001b[0;31m     \u001b[0;34m@\u001b[0m\u001b[0mstaticmethod\u001b[0m\u001b[0;34m\u001b[0m\u001b[0m\n\u001b[0m\u001b[1;32m    125\u001b[0m     \u001b[0;32mdef\u001b[0m \u001b[0mforward\u001b[0m\u001b[0;34m(\u001b[0m\u001b[0mctx\u001b[0m\u001b[0;34m,\u001b[0m \u001b[0minput\u001b[0m\u001b[0;34m,\u001b[0m \u001b[0;34m*\u001b[0m\u001b[0mparams\u001b[0m\u001b[0;34m)\u001b[0m\u001b[0;34m:\u001b[0m\u001b[0;34m\u001b[0m\u001b[0m\n\u001b[1;32m    126\u001b[0m         \u001b[0mctx\u001b[0m\u001b[0;34m.\u001b[0m\u001b[0m_backend\u001b[0m \u001b[0;34m=\u001b[0m \u001b[0mtype2backend\u001b[0m\u001b[0;34m[\u001b[0m\u001b[0mtype\u001b[0m\u001b[0;34m(\u001b[0m\u001b[0minput\u001b[0m\u001b[0;34m)\u001b[0m\u001b[0;34m]\u001b[0m\u001b[0;34m\u001b[0m\u001b[0m\n",
      "\u001b[0;31mKeyboardInterrupt\u001b[0m: "
     ]
    }
   ],
   "source": [
    "plot_losses = trainIters(encoder1, attn_decoder1, train_pairs, 150000, print_every=callback_num, \n",
    "                         plot_every=callback_num, evaluate_each=50000, learning_rate = 0.0001)"
   ]
  },
  {
   "cell_type": "code",
   "execution_count": null,
   "metadata": {
    "collapsed": true
   },
   "outputs": [],
   "source": [
    "ind_to_test = -51\n",
    "\n",
    "print(input_list[ind_to_test])\n",
    "evaluate(encoder1, attn_decoder1, input_list[ind_to_test])[0]"
   ]
  },
  {
   "cell_type": "code",
   "execution_count": 36,
   "metadata": {
    "collapsed": true
   },
   "outputs": [],
   "source": [
    "test_pairs = dev_pairs[:5000]\n",
    "\n",
    "\n",
    "preds = np.array([(item[1], ' '.join(evaluate(encoder1, attn_decoder1, item[0])[0][:-1]), item[0]) for item in test_pairs])"
   ]
  },
  {
   "cell_type": "code",
   "execution_count": 37,
   "metadata": {
    "collapsed": true
   },
   "outputs": [],
   "source": [
    "results = np.array([item[0] == item[1] for item in preds] )"
   ]
  },
  {
   "cell_type": "code",
   "execution_count": 38,
   "metadata": {},
   "outputs": [
    {
     "data": {
      "text/plain": [
       "0.95899999999999996"
      ]
     },
     "execution_count": 38,
     "metadata": {},
     "output_type": "execute_result"
    }
   ],
   "source": [
    "results.mean()"
   ]
  },
  {
   "cell_type": "code",
   "execution_count": 39,
   "metadata": {},
   "outputs": [
    {
     "data": {
      "text/plain": [
       "0.95899999999999996"
      ]
     },
     "execution_count": 39,
     "metadata": {},
     "output_type": "execute_result"
    }
   ],
   "source": [
    "results_norm = np.array([item[0].lower() == item[1].lower() for item in preds] )\n",
    "results_norm.mean()"
   ]
  },
  {
   "cell_type": "code",
   "execution_count": 42,
   "metadata": {},
   "outputs": [
    {
     "data": {
      "text/plain": [
       "array(['о_trans с_trans п_trans е_trans к_trans с_trans',\n",
       "       'о_trans с_trans п_trans е_trans с_trans с_trans',\n",
       "       'T i b e r i u s J u l i u s P o l l i e n u s <norm> A u s p e x </norm> ) — р и м с к и й'],\n",
       "      dtype='<U181')"
      ]
     },
     "execution_count": 42,
     "metadata": {},
     "output_type": "execute_result"
    }
   ],
   "source": [
    "preds[~results][2]"
   ]
  },
  {
   "cell_type": "code",
   "execution_count": null,
   "metadata": {
    "collapsed": true
   },
   "outputs": [],
   "source": [
    "ind_to_test = 5\n",
    "\n",
    "print(input_list[ind_to_test])\n",
    "evaluate(encoder1, attn_decoder1, input_list[ind_to_test])[0]"
   ]
  },
  {
   "cell_type": "code",
   "execution_count": null,
   "metadata": {
    "collapsed": true
   },
   "outputs": [],
   "source": [
    "input_list[0]"
   ]
  },
  {
   "cell_type": "code",
   "execution_count": null,
   "metadata": {
    "collapsed": true
   },
   "outputs": [],
   "source": []
  }
 ],
 "metadata": {
  "kernelspec": {
   "display_name": "Python 3",
   "language": "python",
   "name": "python3"
  },
  "language_info": {
   "codemirror_mode": {
    "name": "ipython",
    "version": 3
   },
   "file_extension": ".py",
   "mimetype": "text/x-python",
   "name": "python",
   "nbconvert_exporter": "python",
   "pygments_lexer": "ipython3",
   "version": "3.6.2"
  }
 },
 "nbformat": 4,
 "nbformat_minor": 2
}
